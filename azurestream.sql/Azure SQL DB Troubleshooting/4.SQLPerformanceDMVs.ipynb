{
    "metadata": {
        "kernelspec": {
            "name": "SQL",
            "display_name": "SQL",
            "language": "sql"
        },
        "language_info": {
            "name": "sql",
            "version": ""
        }
    },
    "nbformat_minor": 2,
    "nbformat": 4,
    "cells": [
        {
            "cell_type": "markdown",
            "source": [
                "# Identify CPU performance issues\n",
                "\n",
                "https://docs.microsoft.com/en-us/azure/azure-sql/database/monitoring-with-dmvs  \n",
                "\n",
                "If CPU consumption is above 80% for extended periods of time, consider the following troubleshooting steps:\n",
                "\n",
                "## The CPU Issue is occurring now\n",
                "\n",
                "If issue is occurring right now, there are two possible scenarios:\n",
                "\n",
                "#### [](https://docs.microsoft.com/en-us/azure/azure-sql/database/monitoring-with-dmvs#many-individual-queries-that-cumulatively-consume-high-cpu)Many individual queries that cumulatively consume high CPU\n",
                "\n",
                "Use the following query to identify top query hashes:"
            ],
            "metadata": {
                "azdata_cell_guid": "59165b4b-e669-4b76-aa5b-4ce6a158bc6e"
            }
        },
        {
            "cell_type": "code",
            "source": [
                "/* This query outputs top 10 most used queries*/\r\n",
                "SELECT TOP (10)\r\n",
                "[database_name] = DB_NAME([qt].[dbid])\r\n",
                ", [schema_name] = OBJECT_SCHEMA_NAME([qt].[objectid], [qt].[dbid])\r\n",
                ", [object_name] = OBJECT_NAME([qt].[objectid], [qt].[dbid])\r\n",
                ", [statement] = SUBSTRING([qt].[text], ([qs].[statement_start_offset] / 2) + 1, ((CASE [qs].[statement_end_offset] WHEN -1 THEN DATALENGTH([qt].[text]) ELSE [qs].[statement_end_offset] END - [qs].[statement_start_offset]) / 2) + 1)\r\n",
                ", [qs].[execution_count]\r\n",
                ", [qs].[total_logical_reads]\r\n",
                ", [qs].[last_logical_reads]\r\n",
                ", [qs].[total_logical_writes]\r\n",
                ", [qs].[last_logical_writes]\r\n",
                ", [qs].[total_worker_time]\r\n",
                ", [qs].[last_worker_time]\r\n",
                ", [total_elapsed_time_in_S] = [qs].[total_elapsed_time] / 1000000\r\n",
                ", [last_elapsed_time_in_S] = [qs].[last_elapsed_time] / 1000000\r\n",
                ", [qs].[last_execution_time]\r\n",
                ", [qp].[query_plan]\r\n",
                "FROM [sys].[dm_exec_query_stats] AS [qs]\r\n",
                "CROSS APPLY [sys].[dm_exec_sql_text]([qs].[sql_handle]) AS [qt]\r\n",
                "CROSS APPLY [sys].[dm_exec_query_plan]([qs].[plan_handle]) AS [qp]\r\n",
                "ORDER BY [qs].[total_logical_reads] DESC"
            ],
            "metadata": {
                "azdata_cell_guid": "886ab620-6829-4aad-82ea-aaca9400b86b"
            },
            "outputs": [],
            "execution_count": null
        },
        {
            "cell_type": "code",
            "source": [
                "PRINT '-- top 10 Active CPU Consuming Queries (aggregated)--';\r\n",
                "SELECT TOP 10 GETDATE() runtime, *\r\n",
                "FROM (SELECT query_stats.query_hash, SUM(query_stats.cpu_time) 'Total_Request_Cpu_Time_Ms', SUM(logical_reads) 'Total_Request_Logical_Reads', MIN(start_time) 'Earliest_Request_start_Time', COUNT(*) 'Number_Of_Requests', SUBSTRING(REPLACE(REPLACE(MIN(query_stats.statement_text), CHAR(10), ' '), CHAR(13), ' '), 1, 256) AS \"Statement_Text\"\r\n",
                "    FROM (SELECT req.*, SUBSTRING(ST.text, (req.statement_start_offset / 2)+1, ((CASE statement_end_offset WHEN -1 THEN DATALENGTH(ST.text)ELSE req.statement_end_offset END-req.statement_start_offset)/ 2)+1) AS statement_text\r\n",
                "          FROM sys.dm_exec_requests AS req\r\n",
                "                CROSS APPLY sys.dm_exec_sql_text(req.sql_handle) AS ST ) AS query_stats\r\n",
                "    GROUP BY query_hash) AS t\r\n",
                "ORDER BY Total_Request_Cpu_Time_Ms DESC;"
            ],
            "metadata": {
                "azdata_cell_guid": "3af59dd0-e22e-46b6-987d-f660011b710e"
            },
            "outputs": [],
            "execution_count": null
        },
        {
            "cell_type": "code",
            "source": [
                "/* Gives us the top 10 queries that are consuming the most IO */\t\r\n",
                "/* https://blog.sqlauthority.com/2014/07/29/sql-server-ssms-top-queries-by-cpu-and-io/ */\t\r\n",
                "SELECT TOP 10\r\n",
                "\tcreation_time\r\n",
                "\t,last_execution_time\r\n",
                "\t,total_logical_reads AS [LogicalReads] , total_logical_writes AS [LogicalWrites] \r\n",
                "\t,execution_count\r\n",
                "\t,total_logical_reads+total_logical_writes AS [AggIO] \r\n",
                "\t,(total_logical_reads+total_logical_writes)/(execution_count+0.0) AS [AvgIO]\r\n",
                "\t,st.TEXT\r\n",
                "FROM sys.dm_exec_query_stats qs\r\n",
                "CROSS APPLY sys.dm_exec_sql_text(sql_handle) st\r\n",
                "WHERE total_logical_reads+total_logical_writes > 0\r\n",
                "AND sql_handle IS NOT NULL\r\n",
                "ORDER BY [AggIO] DESC;"
            ],
            "metadata": {
                "azdata_cell_guid": "9d478696-cc83-40c0-bcd5-c0de5198808f"
            },
            "outputs": [],
            "execution_count": null
        },
        {
            "cell_type": "markdown",
            "source": [
                "## Long running queries that consume CPU are still running\n",
                "\n",
                "Use the following query to identify these queries:"
            ],
            "metadata": {
                "azdata_cell_guid": "1ab44e2a-725a-4754-8c74-72644015218b"
            }
        },
        {
            "cell_type": "code",
            "source": [
                "PRINT '--top 10 Active CPU Consuming Queries by sessions--';\r\n",
                "SELECT TOP 10 req.session_id, req.start_time, cpu_time 'cpu_time_ms', OBJECT_NAME(ST.objectid, ST.dbid) 'ObjectName', SUBSTRING(REPLACE(REPLACE(SUBSTRING(ST.text, (req.statement_start_offset / 2)+1, ((CASE statement_end_offset WHEN -1 THEN DATALENGTH(ST.text)ELSE req.statement_end_offset END-req.statement_start_offset)/ 2)+1), CHAR(10), ' '), CHAR(13), ' '), 1, 512) AS statement_text\r\n",
                "FROM sys.dm_exec_requests AS req\r\n",
                "    CROSS APPLY sys.dm_exec_sql_text(req.sql_handle) AS ST\r\n",
                "ORDER BY cpu_time DESC;\r\n",
                "GO"
            ],
            "metadata": {
                "azdata_cell_guid": "eb843474-c4ec-4bde-b000-63809d5636f0",
                "tags": []
            },
            "outputs": [],
            "execution_count": null
        },
        {
            "cell_type": "markdown",
            "source": [
                "# Identify IO performance issues\n",
                "\n",
                "<span style=\"font-size: 16px; letter-spacing: 0.15px;\">IO Usage is split into two types: Data IO and Log IO. A&nbsp;a combination of the two can also cause issues with IO performance. To get current IO usage, run the following queries on your database:</span>  \n",
                "\n",
                "When identifying IO performance issues, the top wait types associated with IO issues are:\n",
                "\n",
                "- `PAGEIOLATCH_*`\n",
                "    \n",
                "    For data file IO issues (including `PAGEIOLATCH_SH`, `PAGEIOLATCH_EX`, `PAGEIOLATCH_UP`). If the wait type name has IO in it, it points to an IO issue. If there is no IO in the page latch wait name, it points to a different type of problem (for example, tempdb contention).\n",
                "    \n",
                "- `WRITE_LOG`\n",
                "    \n",
                "    For transaction log IO issues.\n",
                "    \n",
                "\n",
                "### [](https://docs.microsoft.com/en-us/azure/azure-sql/database/monitoring-with-dmvs#if-the-io-issue-is-occurring-right-now)If the IO issue is occurring right now\n",
                "\n",
                "Use the [sys.dm\\_exec\\_requests](https://docs.microsoft.com/en-us/sql/relational-databases/system-dynamic-management-views/sys-dm-exec-requests-transact-sql) or [sys.dm\\_os\\_waiting\\_tasks](https://docs.microsoft.com/en-us/sql/relational-databases/system-dynamic-management-views/sys-dm-os-waiting-tasks-transact-sql) to see the `wait_type` and `wait_time`.\n",
                "\n",
                "#### [](https://docs.microsoft.com/en-us/azure/azure-sql/database/monitoring-with-dmvs#identify-data-and-log-io-usage)Identify data and log IO usage\n",
                "\n",
                "Use the following query to identify data and log IO usage. If the data or log IO is above 80%, it means users have used the available IO for the SQL Database service tier."
            ],
            "metadata": {
                "azdata_cell_guid": "058690df-a330-45f6-95c1-d1114645c01d"
            }
        },
        {
            "cell_type": "code",
            "source": [
                "--To get current IO usage, run the following query on your database:\r\n",
                "SELECT end_time, avg_data_io_percent, avg_log_write_percent\r\n",
                "FROM sys.dm_db_resource_stats\r\n",
                "ORDER BY end_time DESC"
            ],
            "metadata": {
                "azdata_cell_guid": "483975e3-fce0-4d9f-8fdc-f803398102e1"
            },
            "outputs": [],
            "execution_count": null
        },
        {
            "cell_type": "code",
            "source": [
                "SELECT io_stall_write_ms/num_of_writes as avg_tlog_io_write_ms, * \r\n",
                "FROM sys.dm_io_virtual_file_stats\r\n",
                "(db_id('Adventureworks'), 2);\r\n",
                "GO"
            ],
            "metadata": {
                "azdata_cell_guid": "87d34c3c-178d-4b6a-848d-0d5c5ccc8985"
            },
            "outputs": [],
            "execution_count": null
        },
        {
            "cell_type": "code",
            "source": [
                "/* Gives us the top 10 queries that are consuming the most IO */\r\n",
                "/* https://blog.sqlauthority.com/2014/07/29/sql-server-ssms-top-queries-by-cpu-and-io/ */\t\r\n",
                "SELECT TOP 10\r\n",
                "\tcreation_time\r\n",
                "\t,last_execution_time\r\n",
                "\t,total_logical_reads AS [LogicalReads] , total_logical_writes AS [LogicalWrites] \r\n",
                "\t,execution_count\r\n",
                "\t,total_logical_reads+total_logical_writes AS [AggIO] \r\n",
                "\t,(total_logical_reads+total_logical_writes)/(execution_count+0.0) AS [AvgIO]\r\n",
                "\t,st.TEXT\r\n",
                "FROM sys.dm_exec_query_stats qs\r\n",
                "CROSS APPLY sys.dm_exec_sql_text(sql_handle) st\r\n",
                "WHERE total_logical_reads+total_logical_writes > 0\r\n",
                "AND sql_handle IS NOT NULL\r\n",
                "ORDER BY [AggIO] DESC;"
            ],
            "metadata": {
                "azdata_cell_guid": "cdf5f87e-6142-40fb-b652-24b26a21ae89"
            },
            "outputs": [],
            "execution_count": null
        }
    ]
}