{
    "metadata": {
        "kernelspec": {
            "name": "SQL",
            "display_name": "SQL",
            "language": "sql"
        },
        "language_info": {
            "name": "sql",
            "version": ""
        }
    },
    "nbformat_minor": 2,
    "nbformat": 4,
    "cells": [
        {
            "cell_type": "markdown",
            "source": [
                "# Verify Deployment and DB Specs, Counts etc..\n",
                "\n",
                "1 = Personal or Desktop Engine 2 = Standard 3 = Enterprise 4 = Express 5 = SQL Database 6 = SQL Data Warehouse 8 = SQL Managed Instance\n",
                "\n",
                "[https://docs.microsoft.com/en-us/azure/azure-sql/database/monitoring-with-dmvs](https://docs.microsoft.com/en-us/azure/azure-sql/database/monitoring-with-dmvs)"
            ],
            "metadata": {
                "azdata_cell_guid": "6ecb3ed6-6a7b-438c-b95c-0de15bbdb4a7"
            }
        },
        {
            "cell_type": "code",
            "source": [
                "--What Version am I running\n",
                "SELECT @@VERSION \n",
                "--What Engine Edition\n",
                "SELECT SERVERPROPERTY('EngineEdition');\n",
                "--Bring back DB name, creation date, compatibility level, collation\n",
                "SELECT * FROM sys.databases;\n",
                ""
            ],
            "metadata": {
                "azdata_cell_guid": "7d967851-29e7-408f-b0eb-4c04e508b72d",
                "tags": []
            },
            "outputs": [],
            "execution_count": null
        },
        {
            "cell_type": "code",
            "source": [
                "/* verify server memory configuration options */\r\n",
                "SELECT * FROM sys.configurations\r\n",
                "WHERE [name] IN ('max server memory (mb)',  'min server memory (mb)');"
            ],
            "metadata": {
                "azdata_cell_guid": "1d346bf6-46fe-4413-9e11-d99eb5649e00",
                "tags": []
            },
            "outputs": [],
            "execution_count": null
        },
        {
            "cell_type": "code",
            "source": [
                "--Gets back db name, dtu limits, cpu limits, memory limits, size limits, log limits etc\r\n",
                "SELECT * FROM sys.dm_user_db_resource_governance -- Only available in Azure SQL DB and MI"
            ],
            "metadata": {
                "azdata_cell_guid": "10743a97-b732-45a1-a93b-846ad1779b62",
                "tags": []
            },
            "outputs": [],
            "execution_count": null
        },
        {
            "cell_type": "code",
            "source": [
                "/* verify installed physical memory, memory usage, memory model, service startup time */\r\n",
                "SELECT\t\r\n",
                "\tCEILING(physical_memory_kb / 1024.0 / 1024.0) AS physical_memory_GB,\r\n",
                "\tCEILING(committed_kb / 1024.0) AS committed_memory_MB,\r\n",
                "\tCEILING(committed_target_kb / 1024.0) AS committed_target_memory_MB,\r\n",
                "\tCEILING(visible_target_kb / 1024.0) AS visible_target_memory_MB,\r\n",
                "\tsql_memory_model_desc,\r\n",
                "\tsqlserver_start_time\r\n",
                "FROM sys.dm_os_sys_info;"
            ],
            "metadata": {
                "azdata_cell_guid": "2c8edad1-cb59-4216-8e16-28034f34a837"
            },
            "outputs": [],
            "execution_count": null
        },
        {
            "cell_type": "code",
            "source": [
                "/* verify databases, COMPATIBILITY LEVELS, recovery models, if snapshot isolation modes are enabled */\r\n",
                "SELECT [name],database_id,[state_desc],[compatibility_level],recovery_model_desc,snapshot_isolation_state_desc,is_read_committed_snapshot_on\r\n",
                "FROM sys.databases;"
            ],
            "metadata": {
                "azdata_cell_guid": "cba88caa-9a42-42f4-a415-87a45e232257"
            },
            "outputs": [],
            "execution_count": null
        },
        {
            "cell_type": "code",
            "source": [
                "--Run this to get the size of the DB(s) in SQL Server\r\n",
                "SELECT\r\n",
                "    name,\r\n",
                "    size,\r\n",
                "    size * 8/1024 'Size (MB)',\r\n",
                "    max_size\r\n",
                "FROM sys.master_files\r\n",
                "WHERE DB_NAME(database_id) = 'WideWorldImporters';\r\n",
                "\r\n",
                "\r\n",
                "SELECT\r\n",
                "\tdatabase_id,\r\n",
                "\t[file_id],\r\n",
                "\t[type],\r\n",
                "\t[type_desc],\r\n",
                "\t[name],\r\n",
                "\tphysical_name,\r\n",
                "\tsize,\r\n",
                "\tmax_size,\r\n",
                "\tis_percent_growth,\r\n",
                "\tgrowth\t\r\n",
                "FROM sys.master_files\r\n",
                "WHERE database_id = DB_ID('AdventureWorks');\r\n",
                "\r\n",
                "\r\n",
                "SELECT\r\n",
                "    d.name AS 'Database',\r\n",
                "    m.name AS 'File',\r\n",
                "    m.size,\r\n",
                "    m.size * 8/1024 'Size (MB)',\r\n",
                "    SUM(m.size * 8/1024) OVER (PARTITION BY d.name) AS 'Database Total',\r\n",
                "    m.max_size\r\n",
                "FROM sys.master_files m\r\n",
                "INNER JOIN sys.databases d ON\r\n",
                "d.database_id = m.database_id;"
            ],
            "metadata": {
                "azdata_cell_guid": "2217889e-5476-41e4-a113-a7346c524aa9",
                "tags": []
            },
            "outputs": [],
            "execution_count": null
        },
        {
            "cell_type": "code",
            "source": [
                "--Get table names of a particular database\r\n",
                "SELECT TABLE_NAME\r\n",
                "FROM INFORMATION_SCHEMA.TABLES\r\n",
                "WHERE TABLE_TYPE='BASE TABLE'"
            ],
            "metadata": {
                "azdata_cell_guid": "4cb0931c-ed32-43bc-8241-4d63e9324918"
            },
            "outputs": [],
            "execution_count": null
        },
        {
            "cell_type": "code",
            "source": [
                "--Capture the Row Counts for all tables in a database\r\n",
                "SELECT\r\n",
                "      QUOTENAME(SCHEMA_NAME(sOBJ.schema_id)) + '.' + QUOTENAME(sOBJ.name) AS [TableName]\r\n",
                "      , SUM(sdmvPTNS.row_count) AS [RowCount]\r\n",
                "FROM\r\n",
                "      sys.objects AS sOBJ\r\n",
                "      INNER JOIN sys.dm_db_partition_stats AS sdmvPTNS\r\n",
                "            ON sOBJ.object_id = sdmvPTNS.object_id\r\n",
                "WHERE \r\n",
                "      sOBJ.type = 'U'\r\n",
                "      AND sOBJ.is_ms_shipped = 0x0\r\n",
                "      AND sdmvPTNS.index_id < 2\r\n",
                "GROUP BY\r\n",
                "      sOBJ.schema_id\r\n",
                "      , sOBJ.name\r\n",
                "ORDER BY [TableName]\r\n",
                "GO"
            ],
            "metadata": {
                "azdata_cell_guid": "13401baf-4483-483d-a3f7-59fc2616fa6b"
            },
            "outputs": [],
            "execution_count": null
        },
        {
            "cell_type": "code",
            "source": [
                "--Query to list all Stored Procedures and Functions\r\n",
                "SELECT name, type\r\n",
                "FROM dbo.sysobjects\r\n",
                "WHERE type IN (\r\n",
                "    'P', -- stored procedures\r\n",
                "    'FN', -- scalar functions \r\n",
                "    'IF', -- inline table-valued functions\r\n",
                "    'TF' -- table-valued functions\r\n",
                ")\r\n",
                "ORDER BY type, name"
            ],
            "metadata": {
                "azdata_cell_guid": "8af59b51-5485-440a-b27d-a28b99554e52"
            },
            "outputs": [],
            "execution_count": null
        }
    ]
}