{
    "metadata": {
        "kernelspec": {
            "name": "SQL",
            "display_name": "SQL",
            "language": "sql"
        },
        "language_info": {
            "name": "sql",
            "version": ""
        }
    },
    "nbformat_minor": 2,
    "nbformat": 4,
    "cells": [
        {
            "cell_type": "code",
            "source": [
                "/* this will show you all your missing index details */\r\n",
                "/* isto irá mostrar-lhe todos os seus dados de índice que faltam */\r\n",
                "SELECT  indgs.avg_user_impact AS Average_Impact\r\n",
                "        ,indgs.last_user_scan AS Last_Scan\r\n",
                "        ,indgs.user_scans AS Number_Scans\r\n",
                "        ,indgs.user_seeks AS Number_Seeks\r\n",
                "        ,indgs.last_user_seek AS Last_Seek\r\n",
                "        ,mind.[statement] AS [Object]\r\n",
                "        ,mind.equality_columns AS Equality_Columns\r\n",
                "        ,mind.included_columns AS Included_Columns\r\n",
                "FROM sys.dm_db_missing_index_groups indg\r\n",
                "INNER JOIN sys.dm_db_missing_index_group_stats indgs ON indgs.group_handle = indg.index_group_handle\r\n",
                "INNER JOIN sys.dm_db_missing_index_details mind ON indg.index_handle = mind.index_handle;"
            ],
            "metadata": {
                "azdata_cell_guid": "45e0de01-9cc8-4d3b-930a-c230ed8ad572"
            },
            "outputs": [],
            "execution_count": null
        }
    ]
}