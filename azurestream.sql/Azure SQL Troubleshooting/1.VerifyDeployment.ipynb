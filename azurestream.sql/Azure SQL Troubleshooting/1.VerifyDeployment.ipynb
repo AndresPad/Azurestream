{
    "metadata": {
        "kernelspec": {
            "name": "SQL",
            "display_name": "SQL",
            "language": "sql"
        },
        "language_info": {
            "name": "sql",
            "version": ""
        }
    },
    "nbformat_minor": 2,
    "nbformat": 4,
    "cells": [
        {
            "cell_type": "markdown",
            "source": [
                "# Verify Deployment\n",
                "\n",
                "1 = Personal or Desktop Engine 2 = Standard 3 = Enterprise 4 = Express 5 = SQL Database 6 = SQL Data Warehouse 8 = SQL Managed Instance\n",
                "\n",
                "  \n",
                "\n",
                "https://docs.microsoft.com/en-us/azure/azure-sql/database/monitoring-with-dmvs"
            ],
            "metadata": {
                "azdata_cell_guid": "6ecb3ed6-6a7b-438c-b95c-0de15bbdb4a7"
            }
        },
        {
            "cell_type": "code",
            "source": [
                "--What Version am I running\n",
                "SELECT @@VERSION \n",
                "--What Engine Edition\n",
                "SELECT SERVERPROPERTY('EngineEdition');\n",
                "--Bring back DB name, creation date, compatibility level, collation\n",
                "SELECT * FROM sys.databases;\n",
                ""
            ],
            "metadata": {
                "azdata_cell_guid": "7d967851-29e7-408f-b0eb-4c04e508b72d",
                "tags": []
            },
            "outputs": [],
            "execution_count": null
        },
        {
            "cell_type": "code",
            "source": [
                "/* verify server memory configuration options */\r\n",
                "SELECT * FROM sys.configurations\r\n",
                "WHERE [name] IN ('max server memory (mb)',  'min server memory (mb)');"
            ],
            "metadata": {
                "azdata_cell_guid": "1d346bf6-46fe-4413-9e11-d99eb5649e00",
                "tags": []
            },
            "outputs": [],
            "execution_count": null
        },
        {
            "cell_type": "code",
            "source": [
                "--Gets back db name, dtu limits, cpu limits, memory limits, size limits, log limits etc\r\n",
                "SELECT * FROM sys.dm_user_db_resource_governance -- Only available in Azure SQL DB and MI"
            ],
            "metadata": {
                "azdata_cell_guid": "10743a97-b732-45a1-a93b-846ad1779b62"
            },
            "outputs": [],
            "execution_count": null
        },
        {
            "cell_type": "code",
            "source": [
                "/* verify installed physical memory, memory usage, memory model, service startup time */\r\n",
                "SELECT\t\r\n",
                "\tCEILING(physical_memory_kb / 1024.0 / 1024.0) AS physical_memory_GB,\r\n",
                "\tCEILING(committed_kb / 1024.0) AS committed_memory_MB,\r\n",
                "\tCEILING(committed_target_kb / 1024.0) AS committed_target_memory_MB,\r\n",
                "\tCEILING(visible_target_kb / 1024.0) AS visible_target_memory_MB,\r\n",
                "\tsql_memory_model_desc,\r\n",
                "\tsqlserver_start_time\r\n",
                "FROM sys.dm_os_sys_info;"
            ],
            "metadata": {
                "azdata_cell_guid": "2c8edad1-cb59-4216-8e16-28034f34a837"
            },
            "outputs": [],
            "execution_count": null
        },
        {
            "cell_type": "code",
            "source": [
                "/* verify databases, COMPATIBILITY LEVELS, recovery models, if snapshot isolation modes are enabled */\r\n",
                "\r\n",
                "SELECT [name],database_id,[state_desc],[compatibility_level],recovery_model_desc,snapshot_isolation_state_desc,is_read_committed_snapshot_on\r\n",
                "FROM sys.databases;"
            ],
            "metadata": {
                "azdata_cell_guid": "cba88caa-9a42-42f4-a415-87a45e232257"
            },
            "outputs": [],
            "execution_count": null
        },
        {
            "cell_type": "code",
            "source": [
                "SELECT io_stall_write_ms/num_of_writes as avg_tlog_io_write_ms, * \r\n",
                "FROM sys.dm_io_virtual_file_stats\r\n",
                "(db_id('Adventureworks'), 2);\r\n",
                "GO"
            ],
            "metadata": {
                "azdata_cell_guid": "2217889e-5476-41e4-a113-a7346c524aa9",
                "tags": []
            },
            "outputs": [],
            "execution_count": null
        }
    ]
}